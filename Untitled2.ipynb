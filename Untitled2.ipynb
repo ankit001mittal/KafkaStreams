{
 "cells": [
  {
   "cell_type": "code",
   "execution_count": 12,
   "metadata": {},
   "outputs": [],
   "source": [
    "from confluent_kafka import avro \n",
    "import pprint\n",
    "from faker import Faker"
   ]
  },
  {
   "cell_type": "code",
   "execution_count": 9,
   "metadata": {},
   "outputs": [
    {
     "name": "stdout",
     "output_type": "stream",
     "text": [
      "data:  Denise Reed\n",
      "data:  Megan Douglas\n",
      "data:  Philip Obrien\n",
      "data:  William Howell\n",
      "data:  Michael Williamson\n",
      "data:  Cheryl Jackson\n",
      "data:  Janet Bruce\n",
      "data:  Colton Martin\n",
      "data:  David Melton\n",
      "data:  Paula Ingram\n"
     ]
    }
   ],
   "source": [
    "\n",
    "myFactory = Faker()\n",
    "myFactory.random.seed(5467)\n",
    "\n",
    "for i in range(10):\n",
    "\n",
    "    data = myFactory.name()\n",
    "    print(\"data: \", data)\n",
    "\n",
    "    # Produce sample message from localhost\n",
    "    # producer = KafkaProducer(bootstrap_servers=['localhost:9092'], retries=5)\n",
    "    # Produce message from docker\n",
    "    producer = Producer({'bootstrap.servers': 'kafka:29092'})\n",
    "\n",
    "    producer.poll(0)\n",
    "\n",
    "    #producer.send('live-transactions', dumps(data).encode('utf-8'))\n",
    "    producer.produce('mytopic', data.encode('utf-8'))\n",
    "\n",
    "    # block until all async messages are sent\n",
    "producer.flush()\n",
    "    # tidy up the producer connection\n",
    "    # producer.close()\n",
    "time.sleep(0.5)\n"
   ]
  },
  {
   "cell_type": "code",
   "execution_count": null,
   "metadata": {},
   "outputs": [],
   "source": []
  }
 ],
 "metadata": {
  "kernelspec": {
   "display_name": "Python 3",
   "language": "python",
   "name": "python3"
  },
  "language_info": {
   "codemirror_mode": {
    "name": "ipython",
    "version": 3
   },
   "file_extension": ".py",
   "mimetype": "text/x-python",
   "name": "python",
   "nbconvert_exporter": "python",
   "pygments_lexer": "ipython3",
   "version": "3.6.5"
  }
 },
 "nbformat": 4,
 "nbformat_minor": 2
}
