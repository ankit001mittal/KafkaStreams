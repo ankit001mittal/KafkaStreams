{
 "cells": [
  {
   "cell_type": "code",
   "execution_count": 3,
   "metadata": {},
   "outputs": [],
   "source": [
    "from kafka.consumer import KafkaConsumer"
   ]
  },
  {
   "cell_type": "code",
   "execution_count": null,
   "metadata": {},
   "outputs": [],
   "source": [
    "import psycopg2\n",
    "from psycopg2 import Error\n",
    "\n",
    "try:\n",
    "    connection = psycopg2.connect(user = \"postgres\",\n",
    "                                  password = \"password\",\n",
    "                                  host = \"127.0.0.1\",\n",
    "                                  port = \"5433\",\n",
    "                                  database = \"filladb1\")\n",
    "\n",
    "    cursor = connection.cursor()\n",
    "    \n",
    "    print(\"Table connected successfully in PostgreSQL \")\n",
    "\n",
    "except (Exception, psycopg2.DatabaseError) as error :\n",
    "    print (\"Error while creating PostgreSQL table\", error)\n",
    "    "
   ]
  },
  {
   "cell_type": "code",
   "execution_count": 10,
   "metadata": {},
   "outputs": [
    {
     "name": "stdout",
     "output_type": "stream",
     "text": [
      "Welcome to parse engine\n"
     ]
    }
   ],
   "source": [
    "\n",
    "try:\n",
    "    print('Welcome to parse engine')\n",
    "    # From inside a container\n",
    "    #consumer = KafkaConsumer('test-topic', bootstrap_servers='kafka:29092')\n",
    "    # From localhost\n",
    "    KAFKA_VERSION = (0, 10)\n",
    "    consumer = KafkaConsumer('alerts', bootstrap_servers='localhost:9092', auto_offset_reset='smallest', api_version = KAFKA_VERSION)\n",
    "\n",
    "#     for message in consumer:\n",
    "#         print('im a message')\n",
    "#         print(message)\n",
    "#         try:\n",
    "#             #postgres_insert_query = \"\"\" INSERT INTO names (str_col) VALUES (%s)\"\"\"\n",
    "#             cursor.execute(\"INSERT INTO names(str_col) VALUES ('{0}')\".format(str(inp)))\n",
    "#             connection.commit()\n",
    "#             count = cursor.rowcount\n",
    "#             print (count, \"Record inserted successfully into names table\")\n",
    "#         except (Exception, psycopg2.Error) as error :\n",
    "#             if(connection):\n",
    "#                 print(\"Failed to insert record into names table\", error)\n",
    "        \n",
    "except Exception as e:\n",
    "    print(e)\n",
    "    # Logs the error appropriately. \n",
    "    pass\n",
    "\n",
    "# finally:\n",
    "# #closing database connection.\n",
    "#     if(connection):\n",
    "#         cursor.close()\n",
    "#         connection.close()\n",
    "#         print(\"PostgreSQL connection is closed\")"
   ]
  },
  {
   "cell_type": "code",
   "execution_count": 11,
   "metadata": {},
   "outputs": [
    {
     "name": "stdout",
     "output_type": "stream",
     "text": [
      "<kafka.consumer.group.KafkaConsumer object at 0x10f182208>\n"
     ]
    }
   ],
   "source": [
    "print(consumer)"
   ]
  },
  {
   "cell_type": "code",
   "execution_count": null,
   "metadata": {},
   "outputs": [],
   "source": [
    "consumer."
   ]
  }
 ],
 "metadata": {
  "kernelspec": {
   "display_name": "Python 3",
   "language": "python",
   "name": "python3"
  },
  "language_info": {
   "codemirror_mode": {
    "name": "ipython",
    "version": 3
   },
   "file_extension": ".py",
   "mimetype": "text/x-python",
   "name": "python",
   "nbconvert_exporter": "python",
   "pygments_lexer": "ipython3",
   "version": "3.7.3"
  }
 },
 "nbformat": 4,
 "nbformat_minor": 2
}
